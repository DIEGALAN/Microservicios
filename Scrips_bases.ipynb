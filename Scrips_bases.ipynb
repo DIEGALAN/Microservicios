{
 "cells": [
  {
   "cell_type": "code",
   "execution_count": 1,
   "metadata": {},
   "outputs": [
    {
     "name": "stdout",
     "output_type": "stream",
     "text": [
      "Base de datos creada exitosamente.\n"
     ]
    }
   ],
   "source": [
    "import sqlite3\n",
    "\n",
    "conn = sqlite3.connect('BD_COCINA.db')\n",
    "cursor = conn.cursor()\n",
    "\n",
    "cursor.execute('''CREATE TABLE IF NOT EXISTS ESTADO_C (\n",
    "                    id_estado INTEGER PRIMARY KEY,\n",
    "                    descrip_estado TEXT\n",
    "                )''')\n",
    "cursor.execute('''CREATE TABLE IF NOT EXISTS ORDEN_C (\n",
    "                    id_orden INTEGER PRIMARY KEY,\n",
    "                    tiempo_orden TEXT,\n",
    "                    id_estado INTEGER,\n",
    "                    id_receta INTEGER,\n",
    "                    FOREIGN KEY (id_estado) REFERENCES ESTADO_C(id_estado),\n",
    "                    FOREIGN KEY (id_receta) REFERENCES RECETA_C(id_receta)\n",
    "                )''')\n",
    "\n",
    "cursor.execute('''CREATE TABLE IF NOT EXISTS RECETA_C (\n",
    "                    id_receta INTEGER PRIMARY KEY,\n",
    "                    nombre_receta TEXT\n",
    "                )''')\n",
    "\n",
    "cursor.execute('''CREATE TABLE IF NOT EXISTS INGREDIENTES_RECETA_C (\n",
    "                    id_ingr_rec INTEGER PRIMARY KEY,\n",
    "                    id_ingrediente INTEGER,\n",
    "                    id_receta INTEGER,\n",
    "                    cantidad TEXT,\n",
    "                    FOREIGN KEY (id_ingrediente) REFERENCES INGREDIENTES_C(id_ingrediente),\n",
    "                    FOREIGN KEY (id_receta) REFERENCES RECETA_C(id_receta)\n",
    "                )''')\n",
    "\n",
    "cursor.execute('''CREATE TABLE IF NOT EXISTS INGREDIENTES_C (\n",
    "                    id_ingrediente INTEGER PRIMARY KEY,\n",
    "                    nombre_ingr TEXT,\n",
    "                    cantidad TEXT\n",
    "                )''')\n",
    "\n",
    "conn.commit()\n",
    "conn.close()\n",
    "\n",
    "print(\"Base de datos creada exitosamente.\")\n"
   ]
  },
  {
   "cell_type": "code",
   "execution_count": 2,
   "metadata": {},
   "outputs": [
    {
     "name": "stdout",
     "output_type": "stream",
     "text": [
      "Base de datos creada exitosamente.\n"
     ]
    }
   ],
   "source": [
    "import sqlite3\n",
    "\n",
    "conn = sqlite3.connect('BD_RECEPCION.db')\n",
    "cursor = conn.cursor()\n",
    "\n",
    "cursor.execute('''CREATE TABLE IF NOT EXISTS ESTADO_R (\n",
    "                    id_estado INTEGER PRIMARY KEY,\n",
    "                    descrip_estado TEXT\n",
    "                )''')\n",
    "\n",
    "cursor.execute('''CREATE TABLE IF NOT EXISTS ORDEN_R (\n",
    "                    id_orden INTEGER PRIMARY KEY,\n",
    "                    tiempo_orden TEXT,\n",
    "                    id_estado INTEGER,\n",
    "                    id_receta INTEGER,\n",
    "                    FOREIGN KEY (id_estado) REFERENCES ESTADO_R(id_estado),\n",
    "                    FOREIGN KEY (id_receta) REFERENCES RECETA_R(id_receta)\n",
    "                )''')\n",
    "\n",
    "cursor.execute('''CREATE TABLE IF NOT EXISTS RECETA_R (\n",
    "                    id_receta INTEGER PRIMARY KEY,\n",
    "                    nombre_receta TEXT\n",
    "                )''')\n",
    "\n",
    "conn.commit()\n",
    "conn.close()\n",
    "\n",
    "print(\"Base de datos creada exitosamente.\")\n"
   ]
  },
  {
   "cell_type": "code",
   "execution_count": 3,
   "metadata": {},
   "outputs": [
    {
     "name": "stdout",
     "output_type": "stream",
     "text": [
      "Base de datos creada exitosamente.\n"
     ]
    }
   ],
   "source": [
    "import sqlite3\n",
    "\n",
    "conn = sqlite3.connect('BD_USUARIOS.db')\n",
    "cursor = conn.cursor()\n",
    "\n",
    "cursor.execute('''CREATE TABLE IF NOT EXISTS USUARIOS (\n",
    "                    id_usuario INTEGER PRIMARY KEY,\n",
    "                    username TEXT UNIQUE,\n",
    "                    password TEXT,\n",
    "                    perfilusu TEXT\n",
    "                )''')\n",
    "\n",
    "conn.commit()\n",
    "conn.close()\n",
    "\n",
    "print(\"Base de datos creada exitosamente.\")\n"
   ]
  },
  {
   "cell_type": "code",
   "execution_count": 1,
   "metadata": {},
   "outputs": [
    {
     "name": "stdout",
     "output_type": "stream",
     "text": [
      "Nuevo usuario insertado correctamente.\n"
     ]
    }
   ],
   "source": [
    "import sqlite3\n",
    "\n",
    "nuevo_usuario = {\n",
    "    \"id_usuario\": 101,\n",
    "    \"username\": \"Cocina1\",\n",
    "    \"password\": \"cocina1001\",\n",
    "    \"perfilusu\": \"Mesero\"\n",
    "}\n",
    "\n",
    "conn = sqlite3.connect('BD_USUARIOS.db')\n",
    "cursor = conn.cursor()\n",
    "\n",
    "try:\n",
    "    cursor.execute('''INSERT INTO USUARIOS (id_usuario, username, password, perfilusu) \n",
    "                      VALUES (:id_usuario, :username, :password, :perfilusu)''', nuevo_usuario)\n",
    "    conn.commit()\n",
    "    print(\"Nuevo usuario insertado correctamente.\")\n",
    "except sqlite3.IntegrityError:\n",
    "    print(\"Error: El nombre de usuario ya existe en la base de datos.\")\n",
    "\n",
    "# Cerrar la conexión\n",
    "conn.close()\n"
   ]
  },
  {
   "cell_type": "code",
   "execution_count": 2,
   "metadata": {},
   "outputs": [
    {
     "name": "stdout",
     "output_type": "stream",
     "text": [
      "Datos de ingredientes agregados correctamente.\n"
     ]
    }
   ],
   "source": [
    "import sqlite3\n",
    "\n",
    "ingredientes = [\n",
    "    (1, 'Tomato', '0'),\n",
    "    (2, 'Lemon', '5'),\n",
    "    (3, 'Potato', '0'),\n",
    "    (4, 'Rice', '5'),\n",
    "    (5, 'Ketchup', '0'),\n",
    "    (6, 'Lettuce', '5'),\n",
    "    (7, 'Onion', '0'),\n",
    "    (8, 'Cheese', '5'),\n",
    "    (9, 'Meat', '0'),\n",
    "    (10, 'Chicken', '5')\n",
    "]\n",
    "\n",
    "conn = sqlite3.connect('BD_COCINA.db')\n",
    "cursor = conn.cursor()\n",
    "\n",
    "for ingrediente in ingredientes:\n",
    "    cursor.execute('''INSERT INTO INGREDIENTES_C (id_ingrediente, nombre_ingr, cantidad) \n",
    "                      VALUES (?, ?, ?)''', ingrediente)\n",
    "\n",
    "conn.commit()\n",
    "conn.close()\n",
    "\n",
    "print(\"Datos de ingredientes agregados correctamente.\")\n"
   ]
  },
  {
   "cell_type": "code",
   "execution_count": 5,
   "metadata": {},
   "outputs": [
    {
     "name": "stdout",
     "output_type": "stream",
     "text": [
      "ID\tNombre\t\tCantidad\n",
      "------------------------------\n",
      "1\tTomato\t\t0\n",
      "2\tLemon\t\t5\n",
      "3\tPotato\t\t0\n",
      "4\tRice\t\t5\n",
      "5\tKetchup\t\t0\n",
      "6\tLettuce\t\t5\n",
      "7\tOnion\t\t0\n",
      "8\tCheese\t\t5\n",
      "9\tMeat\t\t0\n",
      "10\tChicken\t\t5\n"
     ]
    }
   ],
   "source": [
    "import sqlite3\n",
    "\n",
    "conn = sqlite3.connect('BD_COCINA.db')\n",
    "cursor = conn.cursor()\n",
    "\n",
    "cursor.execute('''SELECT * FROM INGREDIENTES_C''')\n",
    "ingredientes = cursor.fetchall()\n",
    "\n",
    "print(\"ID\\tNombre\\t\\tCantidad\")\n",
    "print(\"-\" * 30)\n",
    "for ingrediente in ingredientes:\n",
    "    print(f\"{ingrediente[0]}\\t{ingrediente[1]}\\t\\t{ingrediente[2]}\")\n",
    "\n",
    "conn.close()\n"
   ]
  },
  {
   "cell_type": "code",
   "execution_count": 6,
   "metadata": {},
   "outputs": [
    {
     "ename": "JSONDecodeError",
     "evalue": "Expecting value: line 1 column 1 (char 0)",
     "output_type": "error",
     "traceback": [
      "\u001b[1;31m---------------------------------------------------------------------------\u001b[0m",
      "\u001b[1;31mJSONDecodeError\u001b[0m                           Traceback (most recent call last)",
      "File \u001b[1;32mc:\\Users\\Diego\\AppData\\Local\\Programs\\Python\\Python311\\Lib\\site-packages\\requests\\models.py:971\u001b[0m, in \u001b[0;36mResponse.json\u001b[1;34m(self, **kwargs)\u001b[0m\n\u001b[0;32m    970\u001b[0m \u001b[38;5;28;01mtry\u001b[39;00m:\n\u001b[1;32m--> 971\u001b[0m     \u001b[38;5;28;01mreturn\u001b[39;00m \u001b[43mcomplexjson\u001b[49m\u001b[38;5;241;43m.\u001b[39;49m\u001b[43mloads\u001b[49m\u001b[43m(\u001b[49m\u001b[38;5;28;43mself\u001b[39;49m\u001b[38;5;241;43m.\u001b[39;49m\u001b[43mtext\u001b[49m\u001b[43m,\u001b[49m\u001b[43m \u001b[49m\u001b[38;5;241;43m*\u001b[39;49m\u001b[38;5;241;43m*\u001b[39;49m\u001b[43mkwargs\u001b[49m\u001b[43m)\u001b[49m\n\u001b[0;32m    972\u001b[0m \u001b[38;5;28;01mexcept\u001b[39;00m JSONDecodeError \u001b[38;5;28;01mas\u001b[39;00m e:\n\u001b[0;32m    973\u001b[0m     \u001b[38;5;66;03m# Catch JSON-related errors and raise as requests.JSONDecodeError\u001b[39;00m\n\u001b[0;32m    974\u001b[0m     \u001b[38;5;66;03m# This aliases json.JSONDecodeError and simplejson.JSONDecodeError\u001b[39;00m\n",
      "File \u001b[1;32mc:\\Users\\Diego\\AppData\\Local\\Programs\\Python\\Python311\\Lib\\json\\__init__.py:346\u001b[0m, in \u001b[0;36mloads\u001b[1;34m(s, cls, object_hook, parse_float, parse_int, parse_constant, object_pairs_hook, **kw)\u001b[0m\n\u001b[0;32m    343\u001b[0m \u001b[38;5;28;01mif\u001b[39;00m (\u001b[38;5;28mcls\u001b[39m \u001b[38;5;129;01mis\u001b[39;00m \u001b[38;5;28;01mNone\u001b[39;00m \u001b[38;5;129;01mand\u001b[39;00m object_hook \u001b[38;5;129;01mis\u001b[39;00m \u001b[38;5;28;01mNone\u001b[39;00m \u001b[38;5;129;01mand\u001b[39;00m\n\u001b[0;32m    344\u001b[0m         parse_int \u001b[38;5;129;01mis\u001b[39;00m \u001b[38;5;28;01mNone\u001b[39;00m \u001b[38;5;129;01mand\u001b[39;00m parse_float \u001b[38;5;129;01mis\u001b[39;00m \u001b[38;5;28;01mNone\u001b[39;00m \u001b[38;5;129;01mand\u001b[39;00m\n\u001b[0;32m    345\u001b[0m         parse_constant \u001b[38;5;129;01mis\u001b[39;00m \u001b[38;5;28;01mNone\u001b[39;00m \u001b[38;5;129;01mand\u001b[39;00m object_pairs_hook \u001b[38;5;129;01mis\u001b[39;00m \u001b[38;5;28;01mNone\u001b[39;00m \u001b[38;5;129;01mand\u001b[39;00m \u001b[38;5;129;01mnot\u001b[39;00m kw):\n\u001b[1;32m--> 346\u001b[0m     \u001b[38;5;28;01mreturn\u001b[39;00m \u001b[43m_default_decoder\u001b[49m\u001b[38;5;241;43m.\u001b[39;49m\u001b[43mdecode\u001b[49m\u001b[43m(\u001b[49m\u001b[43ms\u001b[49m\u001b[43m)\u001b[49m\n\u001b[0;32m    347\u001b[0m \u001b[38;5;28;01mif\u001b[39;00m \u001b[38;5;28mcls\u001b[39m \u001b[38;5;129;01mis\u001b[39;00m \u001b[38;5;28;01mNone\u001b[39;00m:\n",
      "File \u001b[1;32mc:\\Users\\Diego\\AppData\\Local\\Programs\\Python\\Python311\\Lib\\json\\decoder.py:337\u001b[0m, in \u001b[0;36mJSONDecoder.decode\u001b[1;34m(self, s, _w)\u001b[0m\n\u001b[0;32m    333\u001b[0m \u001b[38;5;250m\u001b[39m\u001b[38;5;124;03m\"\"\"Return the Python representation of ``s`` (a ``str`` instance\u001b[39;00m\n\u001b[0;32m    334\u001b[0m \u001b[38;5;124;03mcontaining a JSON document).\u001b[39;00m\n\u001b[0;32m    335\u001b[0m \n\u001b[0;32m    336\u001b[0m \u001b[38;5;124;03m\"\"\"\u001b[39;00m\n\u001b[1;32m--> 337\u001b[0m obj, end \u001b[38;5;241m=\u001b[39m \u001b[38;5;28;43mself\u001b[39;49m\u001b[38;5;241;43m.\u001b[39;49m\u001b[43mraw_decode\u001b[49m\u001b[43m(\u001b[49m\u001b[43ms\u001b[49m\u001b[43m,\u001b[49m\u001b[43m \u001b[49m\u001b[43midx\u001b[49m\u001b[38;5;241;43m=\u001b[39;49m\u001b[43m_w\u001b[49m\u001b[43m(\u001b[49m\u001b[43ms\u001b[49m\u001b[43m,\u001b[49m\u001b[43m \u001b[49m\u001b[38;5;241;43m0\u001b[39;49m\u001b[43m)\u001b[49m\u001b[38;5;241;43m.\u001b[39;49m\u001b[43mend\u001b[49m\u001b[43m(\u001b[49m\u001b[43m)\u001b[49m\u001b[43m)\u001b[49m\n\u001b[0;32m    338\u001b[0m end \u001b[38;5;241m=\u001b[39m _w(s, end)\u001b[38;5;241m.\u001b[39mend()\n",
      "File \u001b[1;32mc:\\Users\\Diego\\AppData\\Local\\Programs\\Python\\Python311\\Lib\\json\\decoder.py:355\u001b[0m, in \u001b[0;36mJSONDecoder.raw_decode\u001b[1;34m(self, s, idx)\u001b[0m\n\u001b[0;32m    354\u001b[0m \u001b[38;5;28;01mexcept\u001b[39;00m \u001b[38;5;167;01mStopIteration\u001b[39;00m \u001b[38;5;28;01mas\u001b[39;00m err:\n\u001b[1;32m--> 355\u001b[0m     \u001b[38;5;28;01mraise\u001b[39;00m JSONDecodeError(\u001b[38;5;124m\"\u001b[39m\u001b[38;5;124mExpecting value\u001b[39m\u001b[38;5;124m\"\u001b[39m, s, err\u001b[38;5;241m.\u001b[39mvalue) \u001b[38;5;28;01mfrom\u001b[39;00m \u001b[38;5;28;01mNone\u001b[39;00m\n\u001b[0;32m    356\u001b[0m \u001b[38;5;28;01mreturn\u001b[39;00m obj, end\n",
      "\u001b[1;31mJSONDecodeError\u001b[0m: Expecting value: line 1 column 1 (char 0)",
      "\nDuring handling of the above exception, another exception occurred:\n",
      "\u001b[1;31mJSONDecodeError\u001b[0m                           Traceback (most recent call last)",
      "Cell \u001b[1;32mIn[6], line 12\u001b[0m\n\u001b[0;32m      4\u001b[0m data \u001b[38;5;241m=\u001b[39m {\n\u001b[0;32m      5\u001b[0m     \u001b[38;5;124m'\u001b[39m\u001b[38;5;124musername\u001b[39m\u001b[38;5;124m'\u001b[39m: \u001b[38;5;124m'\u001b[39m\u001b[38;5;124mCocina1\u001b[39m\u001b[38;5;124m'\u001b[39m,\n\u001b[0;32m      6\u001b[0m     \u001b[38;5;124m'\u001b[39m\u001b[38;5;124mpassword\u001b[39m\u001b[38;5;124m'\u001b[39m: \u001b[38;5;124m'\u001b[39m\u001b[38;5;124mcocina1001\u001b[39m\u001b[38;5;124m'\u001b[39m,\n\u001b[0;32m      7\u001b[0m     \u001b[38;5;124m'\u001b[39m\u001b[38;5;124mingredient\u001b[39m\u001b[38;5;124m'\u001b[39m: \u001b[38;5;124m'\u001b[39m\u001b[38;5;124mpotato\u001b[39m\u001b[38;5;124m'\u001b[39m\n\u001b[0;32m      8\u001b[0m }\n\u001b[0;32m     10\u001b[0m response \u001b[38;5;241m=\u001b[39m requests\u001b[38;5;241m.\u001b[39mpost(url, json\u001b[38;5;241m=\u001b[39mdata)\n\u001b[1;32m---> 12\u001b[0m \u001b[38;5;28mprint\u001b[39m(\u001b[43mresponse\u001b[49m\u001b[38;5;241;43m.\u001b[39;49m\u001b[43mjson\u001b[49m\u001b[43m(\u001b[49m\u001b[43m)\u001b[49m)  \u001b[38;5;66;03m# Imprime la respuesta JSON del servidor\u001b[39;00m\n",
      "File \u001b[1;32mc:\\Users\\Diego\\AppData\\Local\\Programs\\Python\\Python311\\Lib\\site-packages\\requests\\models.py:975\u001b[0m, in \u001b[0;36mResponse.json\u001b[1;34m(self, **kwargs)\u001b[0m\n\u001b[0;32m    971\u001b[0m     \u001b[38;5;28;01mreturn\u001b[39;00m complexjson\u001b[38;5;241m.\u001b[39mloads(\u001b[38;5;28mself\u001b[39m\u001b[38;5;241m.\u001b[39mtext, \u001b[38;5;241m*\u001b[39m\u001b[38;5;241m*\u001b[39mkwargs)\n\u001b[0;32m    972\u001b[0m \u001b[38;5;28;01mexcept\u001b[39;00m JSONDecodeError \u001b[38;5;28;01mas\u001b[39;00m e:\n\u001b[0;32m    973\u001b[0m     \u001b[38;5;66;03m# Catch JSON-related errors and raise as requests.JSONDecodeError\u001b[39;00m\n\u001b[0;32m    974\u001b[0m     \u001b[38;5;66;03m# This aliases json.JSONDecodeError and simplejson.JSONDecodeError\u001b[39;00m\n\u001b[1;32m--> 975\u001b[0m     \u001b[38;5;28;01mraise\u001b[39;00m RequestsJSONDecodeError(e\u001b[38;5;241m.\u001b[39mmsg, e\u001b[38;5;241m.\u001b[39mdoc, e\u001b[38;5;241m.\u001b[39mpos)\n",
      "\u001b[1;31mJSONDecodeError\u001b[0m: Expecting value: line 1 column 1 (char 0)"
     ]
    },
    {
     "ename": "",
     "evalue": "",
     "output_type": "error",
     "traceback": [
      "\u001b[1;31mThe Kernel crashed while executing code in the current cell or a previous cell. \n",
      "\u001b[1;31mPlease review the code in the cell(s) to identify a possible cause of the failure. \n",
      "\u001b[1;31mClick <a href='https://aka.ms/vscodeJupyterKernelCrash'>here</a> for more info. \n",
      "\u001b[1;31mView Jupyter <a href='command:jupyter.viewOutput'>log</a> for further details."
     ]
    }
   ],
   "source": [
    "import requests\n",
    "\n",
    "url = 'http://localhost:5000/bodega/actualizar'\n",
    "data = {\n",
    "    'username': 'Cocina1',\n",
    "    'password': 'cocina1001',\n",
    "    'ingredient': 'potato'\n",
    "}\n",
    "\n",
    "response = requests.post(url, json=data)\n",
    "\n",
    "print(response.json())\n"
   ]
  },
  {
   "cell_type": "code",
   "execution_count": 1,
   "metadata": {},
   "outputs": [
    {
     "name": "stdout",
     "output_type": "stream",
     "text": [
      "Datos de recetas agregados correctamente.\n"
     ]
    }
   ],
   "source": [
    "import sqlite3\n",
    "\n",
    "recetas = [\n",
    "    (1, 'Ensalada de Pollo con Salsa de Limón'),\n",
    "    (2, 'Papas Rellenas de Carne y Queso'),\n",
    "    (3, 'Arroz con Pollo al Limón'),\n",
    "    (4, 'Tortilla de Patatas y Queso'),\n",
    "    (5, 'Pollo a la Parrilla con Salsa de Tomate y Queso'),\n",
    "    (6, 'Hamburguesa de Carne con Guarnición de Papas Fritas')\n",
    "]\n",
    "\n",
    "conn = sqlite3.connect('BD_COCINA.db')\n",
    "cursor = conn.cursor()\n",
    "\n",
    "for receta in recetas:\n",
    "    cursor.execute('''INSERT INTO RECETA_C (id_receta, nombre_receta) \n",
    "                      VALUES (?, ?)''', receta)\n",
    "\n",
    "conn.commit()\n",
    "conn.close()\n",
    "\n",
    "print(\"Datos de recetas agregados correctamente.\")\n"
   ]
  },
  {
   "cell_type": "code",
   "execution_count": 2,
   "metadata": {},
   "outputs": [
    {
     "name": "stdout",
     "output_type": "stream",
     "text": [
      "Datos de ingredientes de recetas agregados correctamente.\n"
     ]
    }
   ],
   "source": [
    "import sqlite3\n",
    "\n",
    "ingredientes_receta = [\n",
    "    (1, 1, 1, '1'),\n",
    "    (2, 2, 1, '1'),\n",
    "    (3, 3, 1, '1'),\n",
    "    (4, 4, 1, '1'),\n",
    "    (5, 5, 1, '1'),\n",
    "    (6, 6, 1, '1'),\n",
    "    (7, 7, 1, '1'),\n",
    "    (8, 8, 1, '1'),\n",
    "    (9, 9, 1, '1'),\n",
    "    (10, 10, 1, '1'),\n",
    "    (11, 1, 2, '1'),\n",
    "    (12, 2, 2, '1'),\n",
    "    (13, 3, 2, '1'),\n",
    "    (14, 4, 2, '1'),\n",
    "    (15, 5, 2, '1'),\n",
    "    (16, 6, 2, '1'),\n",
    "    (17, 7, 2, '1'),\n",
    "    (18, 8, 2, '1'),\n",
    "    (19, 9, 2, '1'),\n",
    "    (20, 10, 2, '1'),\n",
    "    (21, 1, 3, '1'),\n",
    "    (22, 2, 3, '1'),\n",
    "    (23, 3, 3, '1'),\n",
    "    (24, 4, 3, '1'),\n",
    "    (25, 5, 3, '1'),\n",
    "    (26, 6, 3, '1'),\n",
    "    (27, 7, 3, '1'),\n",
    "    (28, 8, 3, '1'),\n",
    "    (29, 9, 3, '1'),\n",
    "    (30, 10, 3, '1'),\n",
    "    (31, 1, 4, '1'),\n",
    "    (32, 2, 4, '1'),\n",
    "    (33, 3, 4, '1'),\n",
    "    (34, 4, 4, '1'),\n",
    "    (35, 5, 4, '1'),\n",
    "    (36, 6, 4, '1'),\n",
    "    (37, 7, 4, '1'),\n",
    "    (38, 8, 4, '1'),\n",
    "    (39, 9, 4, '1'),\n",
    "    (40, 10, 4, '1'),\n",
    "    (41, 1, 5, '1'),\n",
    "    (42, 2, 5, '1'),\n",
    "    (43, 3, 5, '1'),\n",
    "    (44, 4, 5, '1'),\n",
    "    (45, 5, 5, '1'),\n",
    "    (46, 6, 5, '1'),\n",
    "    (47, 7, 5, '1'),\n",
    "    (48, 8, 5, '1'),\n",
    "    (49, 9, 5, '1'),\n",
    "    (50, 10, 5, '1'),\n",
    "    (51, 1, 6, '1'),\n",
    "    (52, 2, 6, '1'),\n",
    "    (53, 3, 6, '1'),\n",
    "    (54, 4, 6, '1'),\n",
    "    (55, 5, 6, '1'),\n",
    "    (56, 6, 6, '1'),\n",
    "    (57, 7, 6, '1'),\n",
    "    (58, 8, 6, '1'),\n",
    "    (59, 9, 6, '1'),\n",
    "    (60, 10, 6, '1')\n",
    "]\n",
    "\n",
    "conn = sqlite3.connect('BD_COCINA.db')\n",
    "cursor = conn.cursor()\n",
    "\n",
    "for ingrediente_receta in ingredientes_receta:\n",
    "    cursor.execute('''INSERT INTO INGREDIENTES_RECETA_C (id_ingr_rec, id_ingrediente, id_receta, cantidad) \n",
    "                      VALUES (?, ?, ?, ?)''', ingrediente_receta)\n",
    "\n",
    "conn.commit()\n",
    "conn.close()\n",
    "\n",
    "print(\"Datos de ingredientes de recetas agregados correctamente.\")\n"
   ]
  }
 ],
 "metadata": {
  "kernelspec": {
   "display_name": "Python 3",
   "language": "python",
   "name": "python3"
  },
  "language_info": {
   "codemirror_mode": {
    "name": "ipython",
    "version": 3
   },
   "file_extension": ".py",
   "mimetype": "text/x-python",
   "name": "python",
   "nbconvert_exporter": "python",
   "pygments_lexer": "ipython3",
   "version": "3.11.8"
  }
 },
 "nbformat": 4,
 "nbformat_minor": 2
}
